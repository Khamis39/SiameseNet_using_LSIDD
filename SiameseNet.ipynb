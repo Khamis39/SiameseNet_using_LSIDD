{
 "cells": [
  {
   "cell_type": "code",
   "execution_count": 82,
   "metadata": {},
   "outputs": [],
   "source": [
    "import re\n",
    "import numpy as np\n",
    "from PIL import Image\n",
    "\n",
    "from sklearn.model_selection import train_test_split\n",
    "from keras import backend as K\n",
    "from keras.layers import Activation\n",
    "from keras.layers import Input, Lambda, Dense, Dropout, Convolution2D, MaxPooling2D, Flatten\n",
    "from keras.models import Sequential, Model\n",
    "from keras.optimizers import RMSprop\n",
    "from keras import optimizers\n",
    "\n",
    "import matplotlib.image as mpimg \n",
    "import matplotlib.pyplot as plt \n",
    "\n",
    "from keras import callbacks\n",
    "from keras.callbacks import ModelCheckpoint, LearningRateScheduler, EarlyStopping, ReduceLROnPlateau, TensorBoard\n",
    "import os\n",
    "from keras.models import Model,load_model\n",
    "import json\n",
    "from keras.models import model_from_json, load_model\n",
    "from keras.layers import Dense, Dropout, Flatten, Conv2D, MaxPool2D, BatchNormalization\n",
    "import warnings\n",
    "warnings.filterwarnings('ignore')"
   ]
  },
  {
   "cell_type": "code",
   "execution_count": 83,
   "metadata": {},
   "outputs": [
    {
     "name": "stdout",
     "output_type": "stream",
     "text": [
      "C:/Users/kau/Desktop/code/LargeSIDD\n"
     ]
    }
   ],
   "source": [
    "selected_image_size = 10\n",
    "resize = False\n",
    "total_sample_size = 60 # 5k-50k\n",
    "\n",
    "channel = 3\n",
    "size = 48\n",
    "\n",
    "folder_count = 2\n",
    "image_count = 60 #0-50\n",
    "batch_size=128\n",
    "# if resize == True:\n",
    "#     batch_size=256\n",
    "# else:\n",
    "#     batch_size=64\n",
    "\n",
    "path =  'C:/Users/kau/Desktop/code/LargeSIDD'\n",
    "print(path)"
   ]
  },
  {
   "cell_type": "code",
   "execution_count": 84,
   "metadata": {},
   "outputs": [],
   "source": [
    "def read_image(filename, byteorder='>'):\n",
    "    \n",
    "    #first we read the image, as a raw file to the buffer\n",
    "    with open(filename, 'rb') as f:\n",
    "        buffer = f.read()\n",
    "    \n",
    "    #using regex, we extract the header, width, height and maxval of the image\n",
    "    header, width, height, maxval = re.search(\n",
    "        b\"(^P5\\s(?:\\s*#.*[\\r\\n])*\"\n",
    "        b\"(\\d+)\\s(?:\\s*#.*[\\r\\n])*\"\n",
    "        b\"(\\d+)\\s(?:\\s*#.*[\\r\\n])*\"\n",
    "        b\"(\\d+)\\s(?:\\s*#.*[\\r\\n]\\s)*)\", buffer).groups()\n",
    "    \n",
    "    #then we convert the image to numpy array using np.frombuffer which interprets buffer as one dimensional array\n",
    "    return np.frombuffer(buffer,\n",
    "                            dtype='u1' if int(maxval) < 256 else byteorder+'u2',\n",
    "                            count=int(width)*int(height),\n",
    "                            offset=len(header)\n",
    "                            ).reshape((int(height), int(width)))\n",
    "\n",
    "\n",
    "def euclidean_distance(vects):\n",
    "    x, y = vects\n",
    "    return K.sqrt(K.sum(K.square(x - y), axis=1, keepdims=True))\n",
    "\n",
    "\n",
    "def eucl_dist_output_shape(shapes):\n",
    "    shape1, shape2 = shapes\n",
    "    return (shape1[0], 1)\n",
    "\n",
    "def contrastive_loss(y_true, y_pred):\n",
    "    margin = 1\n",
    "    return K.mean(y_true * K.square(y_pred) + (1 - y_true) * K.square(K.maximum(margin - y_pred, 0)))\n",
    "\n",
    "def compute_accuracy(predictions, labels):\n",
    "    '''Compute classification accuracy with a fixed threshold on distances.\n",
    "    '''\n",
    "    return labels[predictions.ravel() < 0.5].mean()\n",
    "\n",
    "def accuracy(y_true, y_pred):\n",
    "    '''Compute classification accuracy with a fixed threshold on distances.\n",
    "    '''\n",
    "    return K.mean(K.equal(y_true, K.cast(y_pred < 0.5, y_true.dtype)))"
   ]
  },
  {
   "cell_type": "code",
   "execution_count": 85,
   "metadata": {},
   "outputs": [],
   "source": [
    "import numpy as np\n",
    "import matplotlib.image as mpimg\n",
    "#from skimage.transform import resize\n",
    "\n",
    "def get_data(size, total_sample_size, path, image_count, folder_count, resize=False):\n",
    "    # Preallocate arrays for efficiency\n",
    "    X = np.empty((2 * total_sample_size, 2, 3, 48, 48))\n",
    "    Y = np.empty((2 * total_sample_size, 3))\n",
    "\n",
    "    # Combine genuine and imposite indices\n",
    "    indices = [(np.random.randint(image_count), np.random.randint(image_count)) for _ in range(2 * total_sample_size)]\n",
    "\n",
    "    for count, (ind1, ind2) in enumerate(indices):\n",
    "        if count < total_sample_size:\n",
    "            # Genuine pairs\n",
    "            img1 = mpimg.imread(path + '/benign/' + str(ind1 + 1) + '.jpg', 'rw+')\n",
    "            img2 = mpimg.imread(path + '/benign/' + str(ind2 + 1) + '.jpg', 'rw+')\n",
    "            Y[count] = 1\n",
    "        else:\n",
    "            # Imposite pairs\n",
    "            img1 = mpimg.imread(path + '/malicious/' + str(ind1 + 1) + '.jpg', 'rw+')\n",
    "            img2 = mpimg.imread(path + '/malicious/' + str(ind2 + 1) + '.jpg', 'rw+')\n",
    "            Y[count] = 0\n",
    "\n",
    "        #img1 = img1[:, :, :3]\n",
    "        #img2 = img2[:, :, :3]\n",
    "        # Convert to grayscale\n",
    "        img1_gray = np.dot(img1[...,:3], [1, 1, 1])\n",
    "        img2_gray = np.dot(img2[...,:3], [1, 1, 1])\n",
    "\n",
    "        # Resize if necessary\n",
    "        #if resize:\n",
    "        #    img1_gray = resize(img1_gray, (size, size))\n",
    "        #    img2_gray = resize(img2_gray, (size, size))\n",
    "\n",
    "        # Normalize and assign to X\n",
    "        X[count, 0, 0, :, :] = img1_gray/ 255\n",
    "        X[count, 1, 0, :, :] = img2_gray / 255\n",
    "\n",
    "    return X, Y\n",
    "\n",
    "# Usage\n",
    "X, Y = get_data(size, total_sample_size, path, image_count, folder_count, resize=True)\n"
   ]
  },
  {
   "cell_type": "markdown",
   "metadata": {},
   "source": [
    "This will create a bar plot showing the number of imposite and genuine pairs in your dataset.\n",
    "\n"
   ]
  },
  {
   "cell_type": "code",
   "execution_count": 86,
   "metadata": {},
   "outputs": [
    {
     "ename": "ValueError",
     "evalue": "Shape of passed values is (120, 3), indices imply (120, 1)",
     "output_type": "error",
     "traceback": [
      "\u001b[1;31m---------------------------------------------------------------------------\u001b[0m",
      "\u001b[1;31mValueError\u001b[0m                                Traceback (most recent call last)",
      "Cell \u001b[1;32mIn[86], line 5\u001b[0m\n\u001b[0;32m      2\u001b[0m \u001b[39mimport\u001b[39;00m \u001b[39mpandas\u001b[39;00m \u001b[39mas\u001b[39;00m \u001b[39mpd\u001b[39;00m\n\u001b[0;32m      4\u001b[0m \u001b[39m# Assuming Y is your array of labels\u001b[39;00m\n\u001b[1;32m----> 5\u001b[0m df \u001b[39m=\u001b[39m pd\u001b[39m.\u001b[39;49mDataFrame(Y, columns\u001b[39m=\u001b[39;49m[\u001b[39m'\u001b[39;49m\u001b[39mLabel\u001b[39;49m\u001b[39m'\u001b[39;49m])\n\u001b[0;32m      6\u001b[0m df[\u001b[39m'\u001b[39m\u001b[39mLabel\u001b[39m\u001b[39m'\u001b[39m] \u001b[39m=\u001b[39m df[\u001b[39m'\u001b[39m\u001b[39mLabel\u001b[39m\u001b[39m'\u001b[39m]\u001b[39m.\u001b[39mmap({\u001b[39m0\u001b[39m: \u001b[39m'\u001b[39m\u001b[39mbenign\u001b[39m\u001b[39m'\u001b[39m, \u001b[39m1\u001b[39m: \u001b[39m'\u001b[39m\u001b[39mmalicious\u001b[39m\u001b[39m'\u001b[39m})\n\u001b[0;32m      8\u001b[0m sns\u001b[39m.\u001b[39mcountplot(data\u001b[39m=\u001b[39mdf, x\u001b[39m=\u001b[39m\u001b[39m'\u001b[39m\u001b[39mLabel\u001b[39m\u001b[39m'\u001b[39m)\n",
      "File \u001b[1;32mc:\\Users\\kau\\anaconda3\\envs\\IDSSiamese\\lib\\site-packages\\pandas\\core\\frame.py:722\u001b[0m, in \u001b[0;36mDataFrame.__init__\u001b[1;34m(self, data, index, columns, dtype, copy)\u001b[0m\n\u001b[0;32m    712\u001b[0m         mgr \u001b[39m=\u001b[39m dict_to_mgr(\n\u001b[0;32m    713\u001b[0m             \u001b[39m# error: Item \"ndarray\" of \"Union[ndarray, Series, Index]\" has no\u001b[39;00m\n\u001b[0;32m    714\u001b[0m             \u001b[39m# attribute \"name\"\u001b[39;00m\n\u001b[1;32m   (...)\u001b[0m\n\u001b[0;32m    719\u001b[0m             typ\u001b[39m=\u001b[39mmanager,\n\u001b[0;32m    720\u001b[0m         )\n\u001b[0;32m    721\u001b[0m     \u001b[39melse\u001b[39;00m:\n\u001b[1;32m--> 722\u001b[0m         mgr \u001b[39m=\u001b[39m ndarray_to_mgr(\n\u001b[0;32m    723\u001b[0m             data,\n\u001b[0;32m    724\u001b[0m             index,\n\u001b[0;32m    725\u001b[0m             columns,\n\u001b[0;32m    726\u001b[0m             dtype\u001b[39m=\u001b[39;49mdtype,\n\u001b[0;32m    727\u001b[0m             copy\u001b[39m=\u001b[39;49mcopy,\n\u001b[0;32m    728\u001b[0m             typ\u001b[39m=\u001b[39;49mmanager,\n\u001b[0;32m    729\u001b[0m         )\n\u001b[0;32m    731\u001b[0m \u001b[39m# For data is list-like, or Iterable (will consume into list)\u001b[39;00m\n\u001b[0;32m    732\u001b[0m \u001b[39melif\u001b[39;00m is_list_like(data):\n",
      "File \u001b[1;32mc:\\Users\\kau\\anaconda3\\envs\\IDSSiamese\\lib\\site-packages\\pandas\\core\\internals\\construction.py:349\u001b[0m, in \u001b[0;36mndarray_to_mgr\u001b[1;34m(values, index, columns, dtype, copy, typ)\u001b[0m\n\u001b[0;32m    344\u001b[0m \u001b[39m# _prep_ndarraylike ensures that values.ndim == 2 at this point\u001b[39;00m\n\u001b[0;32m    345\u001b[0m index, columns \u001b[39m=\u001b[39m _get_axes(\n\u001b[0;32m    346\u001b[0m     values\u001b[39m.\u001b[39mshape[\u001b[39m0\u001b[39m], values\u001b[39m.\u001b[39mshape[\u001b[39m1\u001b[39m], index\u001b[39m=\u001b[39mindex, columns\u001b[39m=\u001b[39mcolumns\n\u001b[0;32m    347\u001b[0m )\n\u001b[1;32m--> 349\u001b[0m _check_values_indices_shape_match(values, index, columns)\n\u001b[0;32m    351\u001b[0m \u001b[39mif\u001b[39;00m typ \u001b[39m==\u001b[39m \u001b[39m\"\u001b[39m\u001b[39marray\u001b[39m\u001b[39m\"\u001b[39m:\n\u001b[0;32m    353\u001b[0m     \u001b[39mif\u001b[39;00m \u001b[39missubclass\u001b[39m(values\u001b[39m.\u001b[39mdtype\u001b[39m.\u001b[39mtype, \u001b[39mstr\u001b[39m):\n",
      "File \u001b[1;32mc:\\Users\\kau\\anaconda3\\envs\\IDSSiamese\\lib\\site-packages\\pandas\\core\\internals\\construction.py:420\u001b[0m, in \u001b[0;36m_check_values_indices_shape_match\u001b[1;34m(values, index, columns)\u001b[0m\n\u001b[0;32m    418\u001b[0m passed \u001b[39m=\u001b[39m values\u001b[39m.\u001b[39mshape\n\u001b[0;32m    419\u001b[0m implied \u001b[39m=\u001b[39m (\u001b[39mlen\u001b[39m(index), \u001b[39mlen\u001b[39m(columns))\n\u001b[1;32m--> 420\u001b[0m \u001b[39mraise\u001b[39;00m \u001b[39mValueError\u001b[39;00m(\u001b[39mf\u001b[39m\u001b[39m\"\u001b[39m\u001b[39mShape of passed values is \u001b[39m\u001b[39m{\u001b[39;00mpassed\u001b[39m}\u001b[39;00m\u001b[39m, indices imply \u001b[39m\u001b[39m{\u001b[39;00mimplied\u001b[39m}\u001b[39;00m\u001b[39m\"\u001b[39m)\n",
      "\u001b[1;31mValueError\u001b[0m: Shape of passed values is (120, 3), indices imply (120, 1)"
     ]
    }
   ],
   "source": [
    "import seaborn as sns\n",
    "import pandas as pd\n",
    "\n",
    "# Assuming Y is your array of labels\n",
    "df = pd.DataFrame(Y, columns=['Label'])\n",
    "df['Label'] = df['Label'].map({0: 'benign', 1: 'malicious'})\n",
    "\n",
    "sns.countplot(data=df, x='Label')\n"
   ]
  },
  {
   "cell_type": "markdown",
   "metadata": {},
   "source": [
    "For visualizing individual images, you can use matplotlib:\n",
    "\n"
   ]
  },
  {
   "cell_type": "code",
   "execution_count": null,
   "metadata": {},
   "outputs": [
    {
     "data": {
      "image/png": "[encoded data removed]",
      "text/plain": [
       "<Figure size 1000x1000 with 2 Axes>"
      ]
     },
     "metadata": {},
     "output_type": "display_data"
    }
   ],
   "source": [
    "import matplotlib.pyplot as plt\n",
    "\n",
    "# Assuming X is your array of image pairs\n",
    "plt.figure(figsize=(10, 10))\n",
    "\n",
    "# Display the first image pair\n",
    "plt.subplot(1, 2, 1)\n",
    "plt.imshow(X[0, 0, 0])#,cmap='gray')\n",
    "plt.title('Image 1')\n",
    "\n",
    "plt.subplot(1, 2, 2)\n",
    "plt.imshow(X[0, 1, 0])#, cmap='gray')\n",
    "plt.title('Image 2')\n",
    "\n",
    "plt.show()\n"
   ]
  },
  {
   "cell_type": "code",
   "execution_count": null,
   "metadata": {},
   "outputs": [],
   "source": [
    "from keras.models import Sequential\n",
    "from keras.layers import Conv2D, Activation, MaxPooling2D, Flatten, Dense\n",
    "\n",
    "def build_base_network(input_shape):\n",
    "    seq = Sequential()\n",
    "    \n",
    "    nb_filter = [32, 64, 32]\n",
    "    kernel_size = 3\n",
    "\n",
    "    # Convolutional layer 1\n",
    "    seq.add(Conv2D(nb_filter[0], (kernel_size, kernel_size), input_shape=input_shape, padding='valid', data_format='channels_first'))\n",
    "    seq.add(Activation('relu'))\n",
    "    seq.add(MaxPooling2D(pool_size=(2, 2), data_format='channels_first'))\n",
    "\n",
    "    # Convolutional layer 2\n",
    "    seq.add(Conv2D(nb_filter[1], (kernel_size, kernel_size), padding='valid', data_format='channels_first'))\n",
    "    seq.add(Activation('relu'))\n",
    "    seq.add(MaxPooling2D(pool_size=(2, 2), data_format='channels_first'))\n",
    "\n",
    "    # Convolutional layer 3\n",
    "    seq.add(Conv2D(nb_filter[2], (kernel_size, kernel_size), padding='valid', data_format='channels_first'))\n",
    "    seq.add(Activation('relu'))\n",
    "    seq.add(MaxPooling2D(pool_size=(2, 2), data_format='channels_first'))\n",
    "\n",
    "    # Flatten \n",
    "    seq.add(Flatten())\n",
    "    seq.add(Dense(128, activation='relu'))\n",
    "    seq.add(Dense(50, activation='relu'))\n",
    "    return seq\n"
   ]
  },
  {
   "cell_type": "code",
   "execution_count": null,
   "metadata": {},
   "outputs": [
    {
     "name": "stdout",
     "output_type": "stream",
     "text": [
      "x_train (84, 2, 3, 48, 48)\n",
      "x_test (36, 2, 3, 48, 48)\n",
      "y_train (84, 3)\n",
      "y_test (36, 3)\n"
     ]
    }
   ],
   "source": [
    "x_train, x_test, y_train, y_test = train_test_split(X, Y, test_size=.30)\n",
    "print('x_train',x_train.shape)\n",
    "print('x_test',x_test.shape)\n",
    "print('y_train',y_train.shape)\n",
    "print('y_test',y_test.shape)"
   ]
  },
  {
   "cell_type": "code",
   "execution_count": null,
   "metadata": {},
   "outputs": [
    {
     "name": "stdout",
     "output_type": "stream",
     "text": [
      "input_dim (3, 48, 48)\n"
     ]
    }
   ],
   "source": [
    "input_dim = x_train.shape[2:]\n",
    "img_a = Input(shape=input_dim)\n",
    "img_b = Input(shape=input_dim)\n",
    "print('input_dim',input_dim)\n",
    "\n",
    "base_network = build_base_network(input_dim)\n",
    "feat_vecs_a = base_network(img_a)\n",
    "feat_vecs_b = base_network(img_b)\n",
    "distance = Lambda(euclidean_distance, output_shape=eucl_dist_output_shape)([feat_vecs_a, feat_vecs_b])\n"
   ]
  },
  {
   "cell_type": "code",
   "execution_count": null,
   "metadata": {},
   "outputs": [],
   "source": [
    "epochs = 40\n",
    "rms = optimizers.Adam(lr=0.0005, beta_1=0.9, beta_2=0.999, epsilon=None, decay=0.0, amsgrad=False)#RMSprop()\n",
    "rms = RMSprop()\n",
    "\n",
    "earlyStopping = EarlyStopping(monitor='val_loss',\n",
    "                              min_delta=0,\n",
    "                              patience=3,\n",
    "                              verbose=1,\n",
    "                              restore_best_weights=True)\n",
    "callback_early_stop_reduceLROnPlateau=[earlyStopping]"
   ]
  },
  {
   "cell_type": "code",
   "execution_count": null,
   "metadata": {},
   "outputs": [
    {
     "name": "stdout",
     "output_type": "stream",
     "text": [
      "Model: \"model\"\n",
      "__________________________________________________________________________________________________\n",
      " Layer (type)                   Output Shape         Param #     Connected to                     \n",
      "==================================================================================================\n",
      " input_1 (InputLayer)           [(None, 3, 48, 48)]  0           []                               \n",
      "                                                                                                  \n",
      " input_2 (InputLayer)           [(None, 3, 48, 48)]  0           []                               \n",
      "                                                                                                  \n",
      " sequential (Sequential)        (None, 50)           109970      ['input_1[0][0]',                \n",
      "                                                                  'input_2[0][0]']                \n",
      "                                                                                                  \n",
      " lambda (Lambda)                (None, 1)            0           ['sequential[0][0]',             \n",
      "                                                                  'sequential[1][0]']             \n",
      "                                                                                                  \n",
      "==================================================================================================\n",
      "Total params: 109,970\n",
      "Trainable params: 109,970\n",
      "Non-trainable params: 0\n",
      "__________________________________________________________________________________________________\n"
     ]
    }
   ],
   "source": [
    "model = Model(inputs=[img_a, img_b], outputs=distance)\n",
    "model.compile(loss=contrastive_loss, optimizer=rms,metrics=[accuracy])\n",
    "model.summary()"
   ]
  },
  {
   "cell_type": "code",
   "execution_count": null,
   "metadata": {},
   "outputs": [
    {
     "name": "stdout",
     "output_type": "stream",
     "text": [
      "Epoch 1/40\n",
      "1/1 [==============================] - 3s 3s/step - loss: 0.4688 - accuracy: 0.4933 - val_loss: 0.2156 - val_accuracy: 0.7778\n",
      "Epoch 2/40\n",
      "1/1 [==============================] - 1s 980ms/step - loss: 0.4610 - accuracy: 0.4933 - val_loss: 0.2137 - val_accuracy: 0.7778\n",
      "Epoch 3/40\n",
      "1/1 [==============================] - 1s 1s/step - loss: 0.4536 - accuracy: 0.4933 - val_loss: 0.2108 - val_accuracy: 0.7778\n",
      "Epoch 4/40\n",
      "1/1 [==============================] - 2s 2s/step - loss: 0.4420 - accuracy: 0.4933 - val_loss: 0.2118 - val_accuracy: 0.7778\n",
      "Epoch 5/40\n",
      "1/1 [==============================] - 2s 2s/step - loss: 0.4341 - accuracy: 0.4933 - val_loss: 0.2072 - val_accuracy: 0.7778\n",
      "Epoch 6/40\n",
      "1/1 [==============================] - 1s 1s/step - loss: 0.4207 - accuracy: 0.4933 - val_loss: 0.2047 - val_accuracy: 0.7778\n",
      "Epoch 7/40\n",
      "1/1 [==============================] - 1s 1s/step - loss: 0.4102 - accuracy: 0.4933 - val_loss: 0.2033 - val_accuracy: 0.7778\n",
      "Epoch 8/40\n",
      "1/1 [==============================] - 1s 1s/step - loss: 0.3998 - accuracy: 0.4933 - val_loss: 0.2004 - val_accuracy: 0.7778\n",
      "Epoch 9/40\n",
      "1/1 [==============================] - 1s 1s/step - loss: 0.3895 - accuracy: 0.4933 - val_loss: 0.1984 - val_accuracy: 0.7778\n",
      "Epoch 10/40\n",
      "1/1 [==============================] - 1s 1s/step - loss: 0.3776 - accuracy: 0.4933 - val_loss: 0.1960 - val_accuracy: 0.7778\n",
      "Epoch 11/40\n",
      "1/1 [==============================] - 1s 1s/step - loss: 0.3663 - accuracy: 0.4933 - val_loss: 0.1939 - val_accuracy: 0.7778\n",
      "Epoch 12/40\n",
      "1/1 [==============================] - 1s 1s/step - loss: 0.3553 - accuracy: 0.4933 - val_loss: 0.1930 - val_accuracy: 0.7778\n",
      "Epoch 13/40\n",
      "1/1 [==============================] - 1s 1s/step - loss: 0.3448 - accuracy: 0.5067 - val_loss: 0.1915 - val_accuracy: 0.7778\n",
      "Epoch 14/40\n",
      "1/1 [==============================] - 1s 1s/step - loss: 0.3346 - accuracy: 0.5200 - val_loss: 0.1869 - val_accuracy: 0.7778\n",
      "Epoch 15/40\n",
      "1/1 [==============================] - 1s 1s/step - loss: 0.3218 - accuracy: 0.5067 - val_loss: 0.1848 - val_accuracy: 0.7778\n",
      "Epoch 16/40\n",
      "1/1 [==============================] - 2s 2s/step - loss: 0.3114 - accuracy: 0.5200 - val_loss: 0.1839 - val_accuracy: 0.7778\n",
      "Epoch 17/40\n",
      "1/1 [==============================] - 1s 871ms/step - loss: 0.3032 - accuracy: 0.5600 - val_loss: 0.1852 - val_accuracy: 0.7778\n",
      "Epoch 18/40\n",
      "1/1 [==============================] - 2s 2s/step - loss: 0.2956 - accuracy: 0.6000 - val_loss: 0.1837 - val_accuracy: 0.7778\n",
      "Epoch 19/40\n",
      "1/1 [==============================] - 1s 1s/step - loss: 0.2885 - accuracy: 0.6000 - val_loss: 0.1849 - val_accuracy: 0.7778\n",
      "Epoch 20/40\n",
      "1/1 [==============================] - 1s 1s/step - loss: 0.2843 - accuracy: 0.6133 - val_loss: 0.1840 - val_accuracy: 0.7778\n",
      "Epoch 21/40\n",
      "1/1 [==============================] - ETA: 0s - loss: 0.2809 - accuracy: 0.5867Restoring model weights from the end of the best epoch: 18.\n",
      "1/1 [==============================] - 1s 810ms/step - loss: 0.2809 - accuracy: 0.5867 - val_loss: 0.1870 - val_accuracy: 0.6667\n",
      "Epoch 21: early stopping\n",
      "Model saved.\n"
     ]
    }
   ],
   "source": [
    "from keras.callbacks import EarlyStopping, CSVLogger\n",
    "from keras.optimizers import Adam, RMSprop\n",
    "from keras.models import Model\n",
    "from keras.layers import Input\n",
    "\n",
    "# Define your inputs\n",
    "img_1 = x_train[:, 0]\n",
    "img2 = x_train[:, 1]\n",
    "\n",
    "# Define your optimizer and callbacks\n",
    "rms = Adam(lr=0.0005, beta_1=0.9, beta_2=0.999, epsilon=None, decay=0.0, amsgrad=False)\n",
    "earlyStopping = EarlyStopping(monitor='val_loss', min_delta=0, patience=3, verbose=1, restore_best_weights=True)\n",
    "csv_logger = CSVLogger('training.log')  # logs epoch results to a csv file\n",
    "callback_early_stop_reduceLROnPlateau = [earlyStopping, csv_logger]\n",
    "\n",
    "# Build, compile and train the model\n",
    "base_network = build_base_network(input_dim)\n",
    "feat_vecs_a = base_network(img_a)\n",
    "feat_vecs_b = base_network(img_b)\n",
    "distance = Lambda(euclidean_distance, output_shape=eucl_dist_output_shape)([feat_vecs_a, feat_vecs_b])\n",
    "model = Model(inputs=[img_a, img_b], outputs=distance)\n",
    "model.compile(loss=contrastive_loss, optimizer=rms, metrics=[accuracy])\n",
    "history = model.fit([img_1, img2], y_train, validation_split=0.1, batch_size=batch_size, verbose=1, epochs=epochs, shuffle=True, callbacks=callback_early_stop_reduceLROnPlateau)\n",
    "\n",
    "# Save model weights and architecture\n",
    "model.save_weights('model_weights.h5')\n",
    "with open('model_architecture.json', 'w') as f:\n",
    "    f.write(model.to_json())\n",
    "print('Model saved.')\n"
   ]
  },
  {
   "cell_type": "code",
   "execution_count": null,
   "metadata": {},
   "outputs": [
    {
     "data": {
      "image/png": "[encoded data removed]",
      "text/plain": [
       "<Figure size 640x480 with 1 Axes>"
      ]
     },
     "metadata": {},
     "output_type": "display_data"
    },
    {
     "data": {
      "image/png": "[encoded data removed]",
      "text/plain": [
       "<Figure size 640x480 with 1 Axes>"
      ]
     },
     "metadata": {},
     "output_type": "display_data"
    }
   ],
   "source": [
    "acc = history.history['accuracy']\n",
    "val_acc = history.history['val_accuracy']\n",
    "loss = history.history['loss']\n",
    "val_loss = history.history['val_loss']\n",
    "epochs = range(1, len(acc) + 1)\n",
    "#Train and validation accuracy\n",
    "plt.plot(epochs, acc, 'b', label='Training accurarcy')\n",
    "plt.plot(epochs, val_acc, 'r', label='Validation accurarcy')\n",
    "plt.title('Training and Validation accurarcy')\n",
    "plt.legend()\n",
    "\n",
    "plt.figure()\n",
    "#Train and validation loss\n",
    "plt.plot(epochs, loss, 'b', label='Training loss')\n",
    "plt.plot(epochs, val_loss, 'r', label='Validation loss')\n",
    "plt.title('Training and Validation loss')\n",
    "plt.legend()\n",
    "plt.show()"
   ]
  },
  {
   "cell_type": "markdown",
   "metadata": {},
   "source": [
    "For evaluation on test set "
   ]
  },
  {
   "cell_type": "code",
   "execution_count": 90,
   "metadata": {},
   "outputs": [
    {
     "name": "stdout",
     "output_type": "stream",
     "text": [
      "2/2 [==============================] - 0s 7ms/step\n"
     ]
    },
    {
     "ename": "ValueError",
     "evalue": "Classification metrics can't handle a mix of multilabel-indicator and binary targets",
     "output_type": "error",
     "traceback": [
      "\u001b[1;31m---------------------------------------------------------------------------\u001b[0m",
      "\u001b[1;31mValueError\u001b[0m                                Traceback (most recent call last)",
      "Cell \u001b[1;32mIn[90], line 17\u001b[0m\n\u001b[0;32m     13\u001b[0m y_pred \u001b[39m=\u001b[39m np\u001b[39m.\u001b[39mwhere(y_pred \u001b[39m>\u001b[39m \u001b[39m0.5\u001b[39m, \u001b[39m1\u001b[39m, \u001b[39m0\u001b[39m)\n\u001b[0;32m     14\u001b[0m \u001b[39m#y_pred = np.where(y_pred > 0.5, 1, 0).astype('int')\u001b[39;00m\n\u001b[0;32m     15\u001b[0m \n\u001b[0;32m     16\u001b[0m \u001b[39m# Calculate the confusion matrix\u001b[39;00m\n\u001b[1;32m---> 17\u001b[0m cm \u001b[39m=\u001b[39m confusion_matrix(y_test, y_pred)\n\u001b[0;32m     19\u001b[0m \u001b[39m# Calculate Accuracy\u001b[39;00m\n\u001b[0;32m     20\u001b[0m accuracy \u001b[39m=\u001b[39m accuracy_score(y_test, y_pred)\n",
      "File \u001b[1;32mc:\\Users\\kau\\anaconda3\\envs\\IDSSiamese\\lib\\site-packages\\sklearn\\utils\\_param_validation.py:211\u001b[0m, in \u001b[0;36mvalidate_params.<locals>.decorator.<locals>.wrapper\u001b[1;34m(*args, **kwargs)\u001b[0m\n\u001b[0;32m    205\u001b[0m \u001b[39mtry\u001b[39;00m:\n\u001b[0;32m    206\u001b[0m     \u001b[39mwith\u001b[39;00m config_context(\n\u001b[0;32m    207\u001b[0m         skip_parameter_validation\u001b[39m=\u001b[39m(\n\u001b[0;32m    208\u001b[0m             prefer_skip_nested_validation \u001b[39mor\u001b[39;00m global_skip_validation\n\u001b[0;32m    209\u001b[0m         )\n\u001b[0;32m    210\u001b[0m     ):\n\u001b[1;32m--> 211\u001b[0m         \u001b[39mreturn\u001b[39;00m func(\u001b[39m*\u001b[39margs, \u001b[39m*\u001b[39m\u001b[39m*\u001b[39mkwargs)\n\u001b[0;32m    212\u001b[0m \u001b[39mexcept\u001b[39;00m InvalidParameterError \u001b[39mas\u001b[39;00m e:\n\u001b[0;32m    213\u001b[0m     \u001b[39m# When the function is just a wrapper around an estimator, we allow\u001b[39;00m\n\u001b[0;32m    214\u001b[0m     \u001b[39m# the function to delegate validation to the estimator, but we replace\u001b[39;00m\n\u001b[0;32m    215\u001b[0m     \u001b[39m# the name of the estimator by the name of the function in the error\u001b[39;00m\n\u001b[0;32m    216\u001b[0m     \u001b[39m# message to avoid confusion.\u001b[39;00m\n\u001b[0;32m    217\u001b[0m     msg \u001b[39m=\u001b[39m re\u001b[39m.\u001b[39msub(\n\u001b[0;32m    218\u001b[0m         \u001b[39mr\u001b[39m\u001b[39m\"\u001b[39m\u001b[39mparameter of \u001b[39m\u001b[39m\\\u001b[39m\u001b[39mw+ must be\u001b[39m\u001b[39m\"\u001b[39m,\n\u001b[0;32m    219\u001b[0m         \u001b[39mf\u001b[39m\u001b[39m\"\u001b[39m\u001b[39mparameter of \u001b[39m\u001b[39m{\u001b[39;00mfunc\u001b[39m.\u001b[39m\u001b[39m__qualname__\u001b[39m\u001b[39m}\u001b[39;00m\u001b[39m must be\u001b[39m\u001b[39m\"\u001b[39m,\n\u001b[0;32m    220\u001b[0m         \u001b[39mstr\u001b[39m(e),\n\u001b[0;32m    221\u001b[0m     )\n",
      "File \u001b[1;32mc:\\Users\\kau\\anaconda3\\envs\\IDSSiamese\\lib\\site-packages\\sklearn\\metrics\\_classification.py:326\u001b[0m, in \u001b[0;36mconfusion_matrix\u001b[1;34m(y_true, y_pred, labels, sample_weight, normalize)\u001b[0m\n\u001b[0;32m    231\u001b[0m \u001b[39m@validate_params\u001b[39m(\n\u001b[0;32m    232\u001b[0m     {\n\u001b[0;32m    233\u001b[0m         \u001b[39m\"\u001b[39m\u001b[39my_true\u001b[39m\u001b[39m\"\u001b[39m: [\u001b[39m\"\u001b[39m\u001b[39marray-like\u001b[39m\u001b[39m\"\u001b[39m],\n\u001b[1;32m   (...)\u001b[0m\n\u001b[0;32m    242\u001b[0m     y_true, y_pred, \u001b[39m*\u001b[39m, labels\u001b[39m=\u001b[39m\u001b[39mNone\u001b[39;00m, sample_weight\u001b[39m=\u001b[39m\u001b[39mNone\u001b[39;00m, normalize\u001b[39m=\u001b[39m\u001b[39mNone\u001b[39;00m\n\u001b[0;32m    243\u001b[0m ):\n\u001b[0;32m    244\u001b[0m \u001b[39m    \u001b[39m\u001b[39m\"\"\"Compute confusion matrix to evaluate the accuracy of a classification.\u001b[39;00m\n\u001b[0;32m    245\u001b[0m \n\u001b[0;32m    246\u001b[0m \u001b[39m    By definition a confusion matrix :math:`C` is such that :math:`C_{i, j}`\u001b[39;00m\n\u001b[1;32m   (...)\u001b[0m\n\u001b[0;32m    324\u001b[0m \u001b[39m    (0, 2, 1, 1)\u001b[39;00m\n\u001b[0;32m    325\u001b[0m \u001b[39m    \"\"\"\u001b[39;00m\n\u001b[1;32m--> 326\u001b[0m     y_type, y_true, y_pred \u001b[39m=\u001b[39m _check_targets(y_true, y_pred)\n\u001b[0;32m    327\u001b[0m     \u001b[39mif\u001b[39;00m y_type \u001b[39mnot\u001b[39;00m \u001b[39min\u001b[39;00m (\u001b[39m\"\u001b[39m\u001b[39mbinary\u001b[39m\u001b[39m\"\u001b[39m, \u001b[39m\"\u001b[39m\u001b[39mmulticlass\u001b[39m\u001b[39m\"\u001b[39m):\n\u001b[0;32m    328\u001b[0m         \u001b[39mraise\u001b[39;00m \u001b[39mValueError\u001b[39;00m(\u001b[39m\"\u001b[39m\u001b[39m%s\u001b[39;00m\u001b[39m is not supported\u001b[39m\u001b[39m\"\u001b[39m \u001b[39m%\u001b[39m y_type)\n",
      "File \u001b[1;32mc:\\Users\\kau\\anaconda3\\envs\\IDSSiamese\\lib\\site-packages\\sklearn\\metrics\\_classification.py:93\u001b[0m, in \u001b[0;36m_check_targets\u001b[1;34m(y_true, y_pred)\u001b[0m\n\u001b[0;32m     90\u001b[0m     y_type \u001b[39m=\u001b[39m {\u001b[39m\"\u001b[39m\u001b[39mmulticlass\u001b[39m\u001b[39m\"\u001b[39m}\n\u001b[0;32m     92\u001b[0m \u001b[39mif\u001b[39;00m \u001b[39mlen\u001b[39m(y_type) \u001b[39m>\u001b[39m \u001b[39m1\u001b[39m:\n\u001b[1;32m---> 93\u001b[0m     \u001b[39mraise\u001b[39;00m \u001b[39mValueError\u001b[39;00m(\n\u001b[0;32m     94\u001b[0m         \u001b[39m\"\u001b[39m\u001b[39mClassification metrics can\u001b[39m\u001b[39m'\u001b[39m\u001b[39mt handle a mix of \u001b[39m\u001b[39m{0}\u001b[39;00m\u001b[39m and \u001b[39m\u001b[39m{1}\u001b[39;00m\u001b[39m targets\u001b[39m\u001b[39m\"\u001b[39m\u001b[39m.\u001b[39mformat(\n\u001b[0;32m     95\u001b[0m             type_true, type_pred\n\u001b[0;32m     96\u001b[0m         )\n\u001b[0;32m     97\u001b[0m     )\n\u001b[0;32m     99\u001b[0m \u001b[39m# We can't have more than one value on y_type => The set is no more needed\u001b[39;00m\n\u001b[0;32m    100\u001b[0m y_type \u001b[39m=\u001b[39m y_type\u001b[39m.\u001b[39mpop()\n",
      "\u001b[1;31mValueError\u001b[0m: Classification metrics can't handle a mix of multilabel-indicator and binary targets"
     ]
    }
   ],
   "source": [
    "from sklearn.metrics import confusion_matrix, accuracy_score, precision_score, f1_score\n",
    "\n",
    "# Assuming img_1_test, img2_test are your test images and y_test are the true labels\n",
    "img_1_test = x_test[:,0]\n",
    "img2_test = x_test[:,1]\n",
    "y_test = y_test\n",
    "\n",
    "# Get the model's predictions\n",
    "y_pred = model.predict([img_1_test, img2_test])\n",
    "\n",
    "# The predictions are probabilities, so we need to convert them to binary labels\n",
    "# This threshold might need to be adjusted depending on your problem\n",
    "y_pred = np.where(y_pred > 0.5, 1, 0)\n",
    "#y_pred = np.where(y_pred > 0.5, 1, 0).astype('int')\n",
    "\n",
    "# Calculate the confusion matrix\n",
    "cm = confusion_matrix(y_test, y_pred)\n",
    "\n",
    "# Calculate Accuracy\n",
    "accuracy = accuracy_score(y_test, y_pred)\n",
    "\n",
    "# Calculate Precision\n",
    "precision = precision_score(y_test, y_pred)\n",
    "\n",
    "# Calculate F1-score\n",
    "f1 = f1_score(y_test, y_pred)\n",
    "\n",
    "# Print the metrics\n",
    "print(\"Confusion Matrix:\\n\", cm)\n",
    "print(\"Accuracy: \", accuracy)\n",
    "print(\"Precision: \", precision)\n",
    "print(\"F1 Score: \", f1)\n"
   ]
  },
  {
   "cell_type": "markdown",
   "metadata": {},
   "source": [
    "To calculate area under the curve AUC"
   ]
  }
 ],
 "metadata": {
  "kernelspec": {
   "display_name": "few-short2",
   "language": "python",
   "name": "python3"
  },
  "language_info": {
   "codemirror_mode": {
    "name": "ipython",
    "version": 3
   },
   "file_extension": ".py",
   "mimetype": "text/x-python",
   "name": "python",
   "nbconvert_exporter": "python",
   "pygments_lexer": "ipython3",
   "version": "3.9.17"
  },
  "orig_nbformat": 4
 },
 "nbformat": 4,
 "nbformat_minor": 2
}
